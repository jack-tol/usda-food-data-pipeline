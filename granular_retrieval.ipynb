{
 "cells": [
  {
   "cell_type": "code",
   "execution_count": 1,
   "metadata": {},
   "outputs": [],
   "source": [
    "from openai import OpenAI\n",
    "from langchain_pinecone import PineconeEmbeddings, PineconeVectorStore"
   ]
  },
  {
   "cell_type": "code",
   "execution_count": 2,
   "metadata": {},
   "outputs": [],
   "source": [
    "embedding_model = PineconeEmbeddings(model=\"multilingual-e5-large\")\n",
    "food_data_index = PineconeVectorStore.from_existing_index(\"food-data\", embedding_model)"
   ]
  },
  {
   "cell_type": "code",
   "execution_count": 18,
   "metadata": {},
   "outputs": [],
   "source": [
    "high_protein_low_carb_filter = {\n",
    "    \"PROTEIN\": {\"$gte\": 10},       # High protein (>= 10)\n",
    "    \"TOTAL_SUGARS\": {\"$lte\": 5}    # Low total sugars (<= 5)\n",
    "}\n"
   ]
  },
  {
   "cell_type": "code",
   "execution_count": 19,
   "metadata": {},
   "outputs": [
    {
     "data": {
      "text/plain": [
       "[]"
      ]
     },
     "execution_count": 19,
     "metadata": {},
     "output_type": "execute_result"
    }
   ],
   "source": [
    "retrieved_food_data = food_data_index.similarity_search(\"Placeholder Query\", k=10, filter=high_protein_low_carb_filter)\n",
    "retrieved_food_data"
   ]
  },
  {
   "cell_type": "code",
   "execution_count": 15,
   "metadata": {},
   "outputs": [],
   "source": [
    "food_names = [item.page_content for item in retrieved_food_data]\n",
    "food_nutrients = [item.metadata for item in retrieved_food_data]"
   ]
  },
  {
   "cell_type": "code",
   "execution_count": 17,
   "metadata": {},
   "outputs": [
    {
     "data": {
      "text/plain": [
       "{'CALCIUM, CA': '133.0 MG',\n",
       " 'CARBOHYDRATE, BY DIFFERENCE': '3.33 G',\n",
       " 'CHOLESTEROL': '8.0 MG',\n",
       " 'ENERGY': '467.0 KCAL',\n",
       " 'FATTY ACIDS, TOTAL SATURATED': '7.5 G',\n",
       " 'FATTY ACIDS, TOTAL TRANS': '0.0 G',\n",
       " 'FIBER, TOTAL DIETARY': '1.7 G',\n",
       " 'FOOD_ID': 703058.0,\n",
       " 'FOOD_INGREDIENTS': 'BASIL (35%), SUNFLOWER SEED OIL, CASHEWS, EXTRA VIRGIN OLIVE OIL, GRANA PADANO CHEESE (MILK, SALT, RENNET, PRESERVATIVE: EGG WHITE LYSOZYME), PECORINO ROMANO CHEESE (MILK, SALT, RENNET), SALT, PINE NUTS, ACIDITY REGULATOR: LACTIC ACID, GARLIC, ANTIOXIDANT: ASCORBIC ACID',\n",
       " 'FOOD_SERVING_SIZE': '60.0 G',\n",
       " 'IRON, FE': '4.5 MG',\n",
       " 'PROTEIN': '6.67 G',\n",
       " 'SODIUM, NA': '950.0 MG',\n",
       " 'TOTAL LIPID(FAT)': '48.33 G',\n",
       " 'TOTAL SUGARS': '1.67 G',\n",
       " 'VITAMIN D(D2 + D3), INTERNATIONAL UNITS': '0.0 IU'}"
      ]
     },
     "execution_count": 17,
     "metadata": {},
     "output_type": "execute_result"
    }
   ],
   "source": [
    "food_nutrients[0]"
   ]
  },
  {
   "cell_type": "code",
   "execution_count": null,
   "metadata": {},
   "outputs": [],
   "source": []
  }
 ],
 "metadata": {
  "kernelspec": {
   "display_name": "Python 3",
   "language": "python",
   "name": "python3"
  },
  "language_info": {
   "codemirror_mode": {
    "name": "ipython",
    "version": 3
   },
   "file_extension": ".py",
   "mimetype": "text/x-python",
   "name": "python",
   "nbconvert_exporter": "python",
   "pygments_lexer": "ipython3",
   "version": "3.11.5"
  }
 },
 "nbformat": 4,
 "nbformat_minor": 2
}
