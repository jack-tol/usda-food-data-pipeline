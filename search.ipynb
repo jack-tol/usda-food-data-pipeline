{
 "cells": [
  {
   "cell_type": "code",
   "execution_count": 1,
   "metadata": {},
   "outputs": [],
   "source": [
    "from openai import OpenAI\n",
    "from langchain_pinecone import PineconeEmbeddings, PineconeVectorStore"
   ]
  },
  {
   "cell_type": "code",
   "execution_count": 4,
   "metadata": {},
   "outputs": [],
   "source": [
    "def get_food_nutrients(data):\n",
    "    food_data = []\n",
    "\n",
    "    for doc in data:\n",
    "        food_info = {\n",
    "            \"Food Name\": doc.page_content,\n",
    "            \"Nutrients\": doc.metadata\n",
    "        }\n",
    "        food_data.append(food_info)\n",
    "\n",
    "    return food_data\n",
    "\n",
    "def generate_prompt(query, food_data):\n",
    "    prompt_template = \"\"\"\n",
    "    Answer the user's query: {query}\n",
    "\n",
    "    Using the food data information provided. Not all data will be required to properly answer the user's query. Only use the data for the food which they are asking about. Don't interpolate information.\n",
    "    For example, if the user asks about potential allergens, answer analytically, using the information available to you to cite the source. You have data from the FDA loaded into your context. So refer\n",
    "    to the specific nutrients, nutrient types, contents, etc., from the data you have to make sure the user gets the most correct answer.\n",
    "\n",
    "    Please note that nutrient values are provided per 100 grams of food. Additionally, if a nutrient value is listed as 0.0, it may either indicate that the nutrient is absent or is below the detectable limit based on the analysis methods used.\n",
    "\n",
    "    The user may input their question about a very specific branded food item, or a more general food item, such as an ingredient. In the case where they ask about a specific branded food item by name, use only the data associated with that food item. In the case where the user asks about a general food, you'll have multiple brands of that food available in your context—choose the most general version of that product in that case.\n",
    "\n",
    "    If the information provided isn't enough to accurately answer the question, reply with \"I'm sorry, I don't have enough information to accurately answer that question.\"\n",
    "\n",
    "    Make sure to start the response by mentioning the item you are referring to:\n",
    "\n",
    "    Food Data: {food_data}\n",
    "    \"\"\"\n",
    "    return prompt_template.format(query=query, food_data=food_data)\n",
    "\n",
    "def get_completion(query, food_data):\n",
    "    client = OpenAI()\n",
    "    prompt = generate_prompt(query, food_data)\n",
    "\n",
    "    completion = client.chat.completions.create(\n",
    "        model=\"gpt-4o\",\n",
    "        messages=[\n",
    "            {\"role\": \"system\", \"content\": \"You are a helpful assistant.\"},\n",
    "            {\"role\": \"user\", \"content\": prompt}\n",
    "        ]\n",
    "    )\n",
    "\n",
    "    return completion.choices[0].message.content\n",
    "\n",
    "def retrieve_food_data_from_pinecone(query):\n",
    "    embedding_model = PineconeEmbeddings(model=\"multilingual-e5-large\")\n",
    "    food_data_index = PineconeVectorStore.from_existing_index(\"food-data\", embedding_model)\n",
    "    retrieved_food_data = food_data_index.similarity_search(query, k=10)\n",
    "    food_data = get_food_nutrients(retrieved_food_data)\n",
    "\n",
    "    return food_data\n",
    "\n"
   ]
  },
  {
   "cell_type": "code",
   "execution_count": 5,
   "metadata": {},
   "outputs": [
    {
     "name": "stderr",
     "output_type": "stream",
     "text": [
      "Unclosed client session\n",
      "client_session: <aiohttp.client.ClientSession object at 0x1073450d0>\n"
     ]
    },
    {
     "name": "stdout",
     "output_type": "stream",
     "text": [
      "### Cheerios Protein Oats and Honey Cereal\n",
      "\n",
      "#### Nutritional Breakdown per 100 grams:\n",
      "\n",
      "- **Energy**: 382 KCAL\n",
      "- **Protein**: 12.73 G\n",
      "- **Total Lipid (Fat)**: 4.55 G\n",
      "  - Saturated Fat: 0.91 G\n",
      "  - Monounsaturated Fat: 1.82 G\n",
      "  - Polyunsaturated Fat: 1.82 G\n",
      "  - Trans Fat: 0.0 G\n",
      "- **Carbohydrates**: 74.55 G\n",
      "  - Total Sugars: 30.91 G\n",
      "  - Fiber: 7.3 G\n",
      "- **Cholesterol**: 0.0 MG\n",
      "\n",
      "#### Vitamins and Minerals:\n",
      "- **Calcium**: 182.0 MG\n",
      "- **Iron**: 11.45 MG\n",
      "- **Magnesium**: 58.0 MG\n",
      "- **Phosphorus**: 182.0 MG\n",
      "- **Potassium**: 273.0 MG\n",
      "- **Sodium**: 509.0 MG\n",
      "- **Zinc**: 8.18 MG\n",
      "- **Vitamin A**: 909.0 IU\n",
      "- **Vitamin B-6**: 1.091 MG\n",
      "- **Vitamin B-12**: 2.73 UG\n",
      "- **Vitamin C**: 10.9 MG\n",
      "- **Vitamin D**: 73.0 IU\n",
      "- **Thiamin (Vitamin B1)**: 1.0 MG\n",
      "- **Riboflavin (Vitamin B2)**: 0.927 MG\n",
      "\n",
      "#### Potential Allergens:\n",
      "The data provided does not specify any potential allergens. However, cereals like Cheerios Protein Oats and Honey typically contain ingredients such as oats, wheat, and sometimes soy or nuts, which are common allergens. It is essential to check the product label or consult the manufacturer for specific allergen information.\n",
      "\n",
      "If you have any specific dietary restrictions or allergies, it's always prudent to verify with the brand's current packaging or contact their customer service directly.\n"
     ]
    }
   ],
   "source": [
    "user_query = \"give me a breakdown of the nutrients in the cheerios and potential allergens \"\n",
    "retrieved_food_data = retrieve_food_data_from_pinecone(user_query)\n",
    "\n",
    "response = get_completion(user_query, retrieved_food_data)\n",
    "print(response)"
   ]
  },
  {
   "cell_type": "code",
   "execution_count": null,
   "metadata": {},
   "outputs": [],
   "source": []
  }
 ],
 "metadata": {
  "kernelspec": {
   "display_name": "Python 3",
   "language": "python",
   "name": "python3"
  },
  "language_info": {
   "codemirror_mode": {
    "name": "ipython",
    "version": 3
   },
   "file_extension": ".py",
   "mimetype": "text/x-python",
   "name": "python",
   "nbconvert_exporter": "python",
   "pygments_lexer": "ipython3",
   "version": "3.12.4"
  }
 },
 "nbformat": 4,
 "nbformat_minor": 2
}
