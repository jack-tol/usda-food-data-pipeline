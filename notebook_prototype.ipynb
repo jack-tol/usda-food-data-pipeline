{
 "cells": [
  {
   "cell_type": "code",
   "execution_count": 3,
   "metadata": {},
   "outputs": [],
   "source": [
    "from openai import OpenAI\n",
    "from langchain_pinecone import PineconeEmbeddings, PineconeVectorStore"
   ]
  },
  {
   "cell_type": "code",
   "execution_count": 9,
   "metadata": {},
   "outputs": [],
   "source": [
    "def get_food_nutrients(data):\n",
    "    food_data = []\n",
    "\n",
    "    for doc in data:\n",
    "        food_info = {\n",
    "            \"Food Name\": doc.page_content,\n",
    "            \"Nutrients\": doc.metadata\n",
    "        }\n",
    "        food_data.append(food_info)\n",
    "\n",
    "    return food_data\n",
    "\n",
    "def generate_prompt(query, food_data):\n",
    "    prompt_template = \"\"\"\n",
    "    Answer the user's query: {query}\n",
    "\n",
    "    Using the food data information provided. Not all data will be required to properly answer the user's query. Only use the data for the food which they are asking about. Don't interpolate information.\n",
    "    For example, if the user asks about potential allergens, answer analytically, using the information available to you to cite the source. You have data from the FDA loaded into your context, such as food data directly from food labels, ensuring accuracy. Therefore, there is no need to advise the user to \"always check the back of the packaging for the most up-to-date information,\" as the data provided comes from reliable sources, including public and private FDA data gathering methods.\n",
    "\n",
    "    Nutrient values are provided as concentrations per 100 grams of the edible portion of the food. If a nutrient value is listed as 0.0, it indicates that the nutrient is present in such a small quantity that it falls below the detectable limit (Limit of Quantification (LOQ)).\n",
    "\n",
    "    Serving size information is available, but nutrient data is consistently expressed per 100 grams. If the user asks for serving size data, provide the available information, but clarify that the nutrient values themselves are not based on the serving size.\n",
    "\n",
    "    The user may input their question about a very specific branded food item, or a more general food item, such as an ingredient. In the case where they ask about a specific branded food item by name, use only the data associated with that food item. In the case where the user asks about a general food, you'll have multiple brands of that food available in your context—choose the most general version of that product in that case.\n",
    "\n",
    "    If the information provided isn't enough to accurately answer the question, reply with \"I'm sorry, I don't have enough information to accurately answer that question.\". Use hyphens for list items, but don't use markdown formatting syntax in your answer, including asterisks for bolding/italics.\n",
    "\n",
    "    Make sure to start the response by mentioning the item you are referring to:\n",
    "\n",
    "    Food Data: {food_data}\n",
    "    \"\"\"\n",
    "\n",
    "    return prompt_template.format(query=query, food_data=food_data)\n",
    "\n",
    "def get_completion(query, food_data):\n",
    "    client = OpenAI()\n",
    "    prompt = generate_prompt(query, food_data)\n",
    "\n",
    "    completion = client.chat.completions.create(\n",
    "        model=\"gpt-4o\",\n",
    "        messages=[\n",
    "            {\"role\": \"system\", \"content\": \"You are a helpful assistant.\"},\n",
    "            {\"role\": \"user\", \"content\": prompt}\n",
    "        ]\n",
    "    )\n",
    "\n",
    "    return completion.choices[0].message.content\n",
    "\n",
    "def retrieve_food_data_from_pinecone(query):\n",
    "    embedding_model = PineconeEmbeddings(model=\"multilingual-e5-large\")\n",
    "    food_data_index = PineconeVectorStore.from_existing_index(\"food-data\", embedding_model)\n",
    "    retrieved_food_data = food_data_index.similarity_search(query, k=10)\n",
    "    food_data = get_food_nutrients(retrieved_food_data)\n",
    "\n",
    "    return food_data\n"
   ]
  },
  {
   "cell_type": "code",
   "execution_count": 18,
   "metadata": {},
   "outputs": [
    {
     "name": "stderr",
     "output_type": "stream",
     "text": [
      "Unclosed client session\n",
      "client_session: <aiohttp.client.ClientSession object at 0x11f661dc0>\n"
     ]
    },
    {
     "name": "stdout",
     "output_type": "stream",
     "text": [
      "Food Item: SMARTFOOD, Popcorn, Cinnamon Brown Sugar\n",
      "\n",
      "Ingredients:\n",
      "- Popcorn\n",
      "- Vegetable oil (corn, canola, and/or sunflower oil)\n",
      "- Brown sugar\n",
      "- Sugar\n",
      "- Cinnamon\n",
      "- Buttermilk\n",
      "- Salt\n",
      "- Molasses\n",
      "- Gum acacia\n",
      "- Natural flavor\n",
      "\n",
      "Nutrient Breakdown per 100 grams:\n",
      "- Calcium (Ca): 71.0 mg\n",
      "- Carbohydrate, by difference: 57.14 g\n",
      "- Cholesterol: 0.0 mg\n",
      "- Energy: 571.0 kcal\n",
      "- Fatty acids, total saturated: 5.36 g\n",
      "- Fatty acids, total trans: 0.0 g\n",
      "- Fiber, total dietary: 7.1 g\n",
      "- Iron (Fe): 2.57 mg\n",
      "- Protein: 7.14 g\n",
      "- Sodium (Na): 536.0 mg\n",
      "- Total lipid (fat): 32.14 g\n",
      "- Total sugars: 17.86 g\n",
      "- Vitamin A, IU: 0.0 IU\n",
      "- Vitamin C, total ascorbic acid: 0.0 mg\n",
      "\n",
      "Serving Size:\n",
      "- 28.0 g\n"
     ]
    }
   ],
   "source": [
    "user_query = \"pick a random food item from your context and give me a breakdown of the ingredients, micro and micro nutrients in it.\"\n",
    "retrieved_food_data = retrieve_food_data_from_pinecone(user_query)\n",
    "\n",
    "response = get_completion(user_query, retrieved_food_data)\n",
    "print(response)"
   ]
  },
  {
   "cell_type": "code",
   "execution_count": null,
   "metadata": {},
   "outputs": [],
   "source": []
  }
 ],
 "metadata": {
  "kernelspec": {
   "display_name": "Python 3",
   "language": "python",
   "name": "python3"
  },
  "language_info": {
   "codemirror_mode": {
    "name": "ipython",
    "version": 3
   },
   "file_extension": ".py",
   "mimetype": "text/x-python",
   "name": "python",
   "nbconvert_exporter": "python",
   "pygments_lexer": "ipython3",
   "version": "3.12.4"
  }
 },
 "nbformat": 4,
 "nbformat_minor": 2
}
