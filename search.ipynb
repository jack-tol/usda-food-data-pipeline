{
 "cells": [
  {
   "cell_type": "code",
   "execution_count": 1,
   "metadata": {},
   "outputs": [],
   "source": [
    "from openai import OpenAI\n",
    "from langchain_pinecone import PineconeEmbeddings, PineconeVectorStore"
   ]
  },
  {
   "cell_type": "code",
   "execution_count": 12,
   "metadata": {},
   "outputs": [],
   "source": [
    "def get_food_nutrients(data):\n",
    "    food_data = []\n",
    "\n",
    "    for doc in data:\n",
    "        food_info = {\n",
    "            \"Food Name\": doc.page_content,\n",
    "            \"Nutrients\": doc.metadata\n",
    "        }\n",
    "        food_data.append(food_info)\n",
    "\n",
    "    return food_data\n",
    "\n",
    "def generate_prompt(query, food_data):\n",
    "    prompt_template = \"\"\"\n",
    "    Answer the user's query: {query}\n",
    "\n",
    "    Using the food data information provided. Note that nutrient data is typically based on 100 grams of the food. If the user asks about serving sizes, distinguish between the standard 100-gram basis and any serving size mentioned in the data. Do not interpolate information.\n",
    "    \n",
    "    The food data may come from different sources, including branded foods, foundation foods (from chemical analysis), and survey foods (from dietary surveys). Only use the data relevant to the specific food they are asking about.\n",
    "    \n",
    "    Be aware that some foods may have inedible components (referred to as refuse) or may be processed in certain ways that impact their nutrient content or weight. Use any specific nutrient derivations or conversion factors provided when necessary, and cite the relevant details.\n",
    "    \n",
    "    For example, if the user asks about allergens, use the information from the ingredients or food components to answer accurately. You have access to data from FDA sources, so refer to specific nutrients, attributes, and details in your response. Don't use LaTex equations in your response.\n",
    "\n",
    "    Make sure to start the response by mentioning the item you are referring to:\n",
    "\n",
    "    Food Data: {food_data}\n",
    "    \"\"\"\n",
    "    return prompt_template.format(query=query, food_data=food_data)\n",
    "\n",
    "def get_completion(query, food_data):\n",
    "    client = OpenAI()\n",
    "    prompt = generate_prompt(query, food_data)\n",
    "\n",
    "    completion = client.chat.completions.create(\n",
    "        model=\"gpt-4o\",\n",
    "        messages=[\n",
    "            {\"role\": \"system\", \"content\": \"You are a helpful assistant.\"},\n",
    "            {\"role\": \"user\", \"content\": prompt}\n",
    "        ]\n",
    "    )\n",
    "\n",
    "    return completion.choices[0].message.content\n",
    "\n",
    "def retrieve_food_data_from_pinecone(query):\n",
    "    embedding_model = PineconeEmbeddings(model=\"multilingual-e5-large\")\n",
    "    food_data_index = PineconeVectorStore.from_existing_index(\"food-data\", embedding_model)\n",
    "    retrieved_food_data = food_data_index.similarity_search(query, k=10)\n",
    "    food_data = get_food_nutrients(retrieved_food_data)\n",
    "\n",
    "    return food_data\n",
    "\n"
   ]
  },
  {
   "cell_type": "code",
   "execution_count": 14,
   "metadata": {},
   "outputs": [
    {
     "name": "stderr",
     "output_type": "stream",
     "text": [
      "Unclosed client session\n",
      "client_session: <aiohttp.client.ClientSession object at 0x00000275723446D0>\n"
     ]
    },
    {
     "name": "stdout",
     "output_type": "stream",
     "text": [
      "Food Item: GMILLS HNY NUT CHEERIOS SWEETENED WHL GRN OAT CEREAL GNT SZ\n",
      "\n",
      "Here is the nutrient breakdown per 100 grams:\n",
      "\n",
      "- **Energy:** 393.0 kcal\n",
      "- **Carbohydrate, by difference:** 78.57 g\n",
      "- **Total Sugars:** 32.14 g\n",
      "- **Total lipid (fat):** 5.36 g\n",
      "  - Fatty acids, total monounsaturated: 1.79 g\n",
      "  - Fatty acids, total polyunsaturated: 1.79 g\n",
      "  - Fatty acids, total saturated: 0.0 g\n",
      "  - Fatty acids, total trans: 0.0 g\n",
      "- **Cholesterol:** 0.0 mg\n",
      "- **Protein:** 7.14 g\n",
      "- **Fiber, total dietary:** 7.1 g\n",
      "  - Fiber, soluble: 4.0 g\n",
      "- **Calcium, Ca:** 357.0 mg\n",
      "- **Iron, Fe:** 16.07 mg\n",
      "- **Magnesium, Mg:** 86.0 mg\n",
      "- **Phosphorus, P:** 286.0 mg\n",
      "- **Potassium, K:** 411.0 mg\n",
      "- **Sodium, Na:** 571.0 mg\n",
      "- **Zinc, Zn:** 13.39 mg\n",
      "- **Vitamins:**\n",
      "  - Vitamin A, IU: 1786.0 IU\n",
      "  - Vitamin B-6: 1.786 mg\n",
      "  - Vitamin B-12: 5.36 ug\n",
      "  - Vitamin C, total ascorbic acid: 21.4 mg\n",
      "  - Riboflavin: 1.518 mg\n",
      "  - Thiamin: 1.0 mg\n",
      "  - Vitamin D (D2 + D3), International Units: 143.0 IU\n",
      "\n",
      "**Potential Allergens:**\n",
      "Cheerios typically contain ingredients derived from oats and nuts. Therefore, they may potentially trigger allergic reactions in individuals with oat or nut allergies. Always check the packaging for specific allergen warnings, as formulations can vary and may include other allergens such as wheat (gluten) or soy depending on the manufacturing process.\n",
      "\n",
      "Please consult the product packaging or manufacturers directly for the most accurate allergen information.\n"
     ]
    }
   ],
   "source": [
    "user_query = \"give me a breakdown of the nutrients in the cheerios and potential allergens \"\n",
    "retrieved_food_data = retrieve_food_data_from_pinecone(user_query)\n",
    "\n",
    "response = get_completion(user_query, retrieved_food_data)\n",
    "print(response)"
   ]
  },
  {
   "cell_type": "code",
   "execution_count": null,
   "metadata": {},
   "outputs": [],
   "source": []
  }
 ],
 "metadata": {
  "kernelspec": {
   "display_name": "Python 3",
   "language": "python",
   "name": "python3"
  },
  "language_info": {
   "codemirror_mode": {
    "name": "ipython",
    "version": 3
   },
   "file_extension": ".py",
   "mimetype": "text/x-python",
   "name": "python",
   "nbconvert_exporter": "python",
   "pygments_lexer": "ipython3",
   "version": "3.11.5"
  }
 },
 "nbformat": 4,
 "nbformat_minor": 2
}
