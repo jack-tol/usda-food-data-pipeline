{
 "cells": [
  {
   "cell_type": "code",
   "execution_count": 1,
   "metadata": {},
   "outputs": [],
   "source": [
    "import pandas as pd\n",
    "\n",
    "df = pd.read_csv('fda_food_nutrient_data.csv', low_memory=False)\n",
    "\n",
    "df_sample = df.sample(n=100000)\n",
    "\n",
    "df_sample.to_csv('fda_food_nutrient_data_small_sample.csv', index=False)\n"
   ]
  },
  {
   "cell_type": "code",
   "execution_count": 2,
   "metadata": {},
   "outputs": [
    {
     "name": "stdout",
     "output_type": "stream",
     "text": [
      "Uploaded 100000 documents to Pinecone index 'food-data'\n"
     ]
    }
   ],
   "source": [
    "import pandas as pd\n",
    "from langchain_pinecone import PineconeEmbeddings, PineconeVectorStore\n",
    "from langchain_core.documents import Document\n",
    "\n",
    "df = pd.read_csv('fda_food_nutrient_data_small_sample.csv', low_memory=False)\n",
    "\n",
    "texts = []\n",
    "metadatas = []\n",
    "\n",
    "for _, row in df.iterrows():\n",
    "    food_name = row['FOOD_NAME']\n",
    "    texts.append(food_name)\n",
    "    \n",
    "    metadata = {}\n",
    "    for column in df.columns:\n",
    "        if pd.notna(row[column]) and column != 'FOOD_NAME':\n",
    "            metadata[column] = row[column]\n",
    "    \n",
    "    metadatas.append(metadata)\n",
    "\n",
    "embedding_model = PineconeEmbeddings(model=\"multilingual-e5-large\")\n",
    "\n",
    "index_name = \"food-data\"\n",
    "vector_store = PineconeVectorStore.from_existing_index(index_name=index_name, embedding=embedding_model)\n",
    "\n",
    "documents = [\n",
    "    Document(page_content=texts[doc_id], metadata=metadatas[doc_id])\n",
    "    for doc_id in range(len(texts))\n",
    "]\n",
    "\n",
    "vector_store.add_documents(documents)\n",
    "\n",
    "print(f\"Uploaded {len(documents)} documents to Pinecone index '{index_name}'\")\n"
   ]
  },
  {
   "cell_type": "code",
   "execution_count": null,
   "metadata": {},
   "outputs": [],
   "source": []
  }
 ],
 "metadata": {
  "kernelspec": {
   "display_name": "Python 3",
   "language": "python",
   "name": "python3"
  },
  "language_info": {
   "codemirror_mode": {
    "name": "ipython",
    "version": 3
   },
   "file_extension": ".py",
   "mimetype": "text/x-python",
   "name": "python",
   "nbconvert_exporter": "python",
   "pygments_lexer": "ipython3",
   "version": "3.12.4"
  }
 },
 "nbformat": 4,
 "nbformat_minor": 2
}
