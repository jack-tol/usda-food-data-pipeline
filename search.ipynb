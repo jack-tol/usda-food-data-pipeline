{
 "cells": [
  {
   "cell_type": "code",
   "execution_count": 3,
   "metadata": {},
   "outputs": [],
   "source": [
    "from openai import OpenAI\n",
    "from langchain_pinecone import PineconeEmbeddings, PineconeVectorStore"
   ]
  },
  {
   "cell_type": "code",
   "execution_count": 4,
   "metadata": {},
   "outputs": [],
   "source": [
    "def get_food_nutrients(data):\n",
    "    food_data = []\n",
    "\n",
    "    for doc in data:\n",
    "        food_info = {\n",
    "            \"Food Name\": doc.page_content,\n",
    "            \"Nutrients\": doc.metadata\n",
    "        }\n",
    "        food_data.append(food_info)\n",
    "\n",
    "    return food_data\n",
    "\n",
    "def generate_prompt(query, food_data):\n",
    "    prompt_template = \"\"\"\n",
    "    Answer the user's query: {query}\n",
    "\n",
    "    Using the food data information provided. Not all data will be required to properly answer the user's query. Only use the data for the food which they are asking about. Don't interpolate information.\n",
    "    For example, if the user asks about potential allergens, answer analytically, using the information available to you to cite the source. You have data from the FDA loaded into your context, such as food data directly from food labels, ensuring accuracy. Therefore, there is no need to advise the user to \"always check the back of the packaging for the most up-to-date information,\" as the data provided comes from reliable sources, including public and private FDA data gathering methods.\n",
    "\n",
    "    Nutrient values are provided as concentrations per 100 grams of the edible portion of the food. If a nutrient value is listed as 0.0, it indicates that the nutrient is present in such a small quantity that it falls below the detectable limit (Limit of Quantification (LOQ)).\n",
    "\n",
    "    Serving size information is available, but nutrient data is consistently expressed per 100 grams. If the user asks for serving size data, provide the available information, but clarify that the nutrient values themselves are not based on the serving size.\n",
    "\n",
    "    The user may input their question about a very specific branded food item, or a more general food item, such as an ingredient. In the case where they ask about a specific branded food item by name, use only the data associated with that food item. In the case where the user asks about a general food, you'll have multiple brands of that food available in your context—choose the most general version of that product in that case.\n",
    "\n",
    "    If the information provided isn't enough to accurately answer the question, reply with \"I'm sorry, I don't have enough information to accurately answer that question.\". Use hyphens for list items, but don't use markdown formatting syntax in your answer.\n",
    "\n",
    "    Make sure to start the response by mentioning the item you are referring to:\n",
    "\n",
    "    Food Data: {food_data}\n",
    "    \"\"\"\n",
    "\n",
    "    return prompt_template.format(query=query, food_data=food_data)\n",
    "\n",
    "def get_completion(query, food_data):\n",
    "    client = OpenAI()\n",
    "    prompt = generate_prompt(query, food_data)\n",
    "\n",
    "    completion = client.chat.completions.create(\n",
    "        model=\"gpt-4o\",\n",
    "        messages=[\n",
    "            {\"role\": \"system\", \"content\": \"You are a helpful assistant.\"},\n",
    "            {\"role\": \"user\", \"content\": prompt}\n",
    "        ]\n",
    "    )\n",
    "\n",
    "    return completion.choices[0].message.content\n",
    "\n",
    "def retrieve_food_data_from_pinecone(query):\n",
    "    embedding_model = PineconeEmbeddings(model=\"multilingual-e5-large\")\n",
    "    food_data_index = PineconeVectorStore.from_existing_index(\"food-data\", embedding_model)\n",
    "    retrieved_food_data = food_data_index.similarity_search(query, k=10)\n",
    "    food_data = get_food_nutrients(retrieved_food_data)\n",
    "\n",
    "    return food_data\n"
   ]
  },
  {
   "cell_type": "code",
   "execution_count": 6,
   "metadata": {},
   "outputs": [
    {
     "name": "stderr",
     "output_type": "stream",
     "text": [
      "Unclosed client session\n",
      "client_session: <aiohttp.client.ClientSession object at 0x1187aeab0>\n"
     ]
    },
    {
     "name": "stdout",
     "output_type": "stream",
     "text": [
      "**Kellogg's Rice Krispies Cereal**\n",
      "\n",
      "Kellogg's Rice Krispies Cereal is a well-known breakfast cereal consisting primarily of rice. Below is some nutritional information per 100 grams of the cereal:\n",
      "\n",
      "- **Carbohydrates:** 88.3 g\n",
      "- **Protein:** 6.5 g\n",
      "- **Total Fat:** 0.6 g (includes 0.2 g of saturated fat)\n",
      "- **Fiber:** 0.7 g\n",
      "- **Total Sugars:** 10.7 g\n",
      "- **Sodium:** 497 mg\n",
      "- **Iron:** 28.0 mg\n",
      "- **Vitamins:** Includes significant amounts of several vitamins, such as folate (606.0 µg), vitamin C (45.0 mg), vitamin A (3788 IU), vitamin B6, and vitamin B12\n",
      "\n",
      "**Ingredients:** The primary ingredients include rice, sugar, salt, and malt flavor, with added vitamins and minerals like iron, vitamin C, vitamin A, B vitamins, and vitamin D.\n",
      "\n",
      "**Health Considerations:**\n",
      "- **Pros:** Rice Krispies have low fat and cholesterol, and they are fortified with essential vitamins and minerals, making them an option for a quick and convenient breakfast.\n",
      "- **Cons:** The cereal contains a moderate amount of sugar (10.7 g per 100 g) and sodium (497 mg per 100 g), which may be considerations for those managing sugar intake or sodium levels for health reasons. Additionally, the fiber content is relatively low.\n",
      "\n",
      "**Conclusion:** Whether Kellogg's Rice Krispies Cereal is \"good for you\" can depend on individual dietary needs and health goals. As a low-fat and fortified cereal, it can fit well into a balanced diet, especially if complemented with fruits or other high-fiber foods to increase fiber intake. However, the sugar content and low fiber should be taken into consideration if those factors are important for your dietary plan.\n"
     ]
    }
   ],
   "source": [
    "user_query = \"tell me about kelloggs rice krispies. would you say its good for you?\"\n",
    "retrieved_food_data = retrieve_food_data_from_pinecone(user_query)\n",
    "\n",
    "response = get_completion(user_query, retrieved_food_data)\n",
    "print(response)"
   ]
  },
  {
   "cell_type": "code",
   "execution_count": null,
   "metadata": {},
   "outputs": [],
   "source": []
  }
 ],
 "metadata": {
  "kernelspec": {
   "display_name": "Python 3",
   "language": "python",
   "name": "python3"
  },
  "language_info": {
   "codemirror_mode": {
    "name": "ipython",
    "version": 3
   },
   "file_extension": ".py",
   "mimetype": "text/x-python",
   "name": "python",
   "nbconvert_exporter": "python",
   "pygments_lexer": "ipython3",
   "version": "3.12.4"
  }
 },
 "nbformat": 4,
 "nbformat_minor": 2
}
