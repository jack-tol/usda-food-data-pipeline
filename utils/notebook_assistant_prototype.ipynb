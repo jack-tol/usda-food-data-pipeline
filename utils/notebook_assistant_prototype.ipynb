{
 "cells": [
  {
   "cell_type": "code",
   "execution_count": 1,
   "metadata": {},
   "outputs": [],
   "source": [
    "from openai import OpenAI\n",
    "from pinecone.grpc import PineconeGRPC as Pinecone"
   ]
  },
  {
   "cell_type": "code",
   "execution_count": 2,
   "metadata": {},
   "outputs": [],
   "source": [
    "pc = Pinecone()\n",
    "index_name = \"branded-food-data\"\n",
    "index = pc.Index(index_name)"
   ]
  },
  {
   "cell_type": "code",
   "execution_count": 7,
   "metadata": {},
   "outputs": [],
   "source": [
    "def get_food_nutrients(data):\n",
    "    food_data = []\n",
    "    for doc in data:\n",
    "        food_info = {\n",
    "            \"Food Name\": doc['metadata'].get(\"FOOD_NAME\", \"Unknown Food Name\"),\n",
    "            \"Nutrients\": doc['metadata']\n",
    "        }\n",
    "        food_data.append(food_info)\n",
    "    return food_data\n",
    "\n",
    "def generate_prompt(query, food_data):\n",
    "    prompt_template = \"\"\"\n",
    "    Answer the user's query: {query}\n",
    "\n",
    "    Using the food data information provided. Not all data will be required to properly answer the user's query. Only use the data for the food which they are asking about. Don't interpolate information.\n",
    "    For example, if the user asks about potential allergens, answer analytically, using the information available to you to cite the source. You have data from the FDA loaded into your context, such as food data directly from food labels, ensuring accuracy. Therefore, there is no need to advise the user to \"always check the back of the packaging for the most up-to-date information,\" as the data provided comes from reliable sources, including public and private FDA data gathering methods.\n",
    "\n",
    "    Nutrient values are provided as concentrations per 100 grams of the edible portion of the food. If a nutrient value is listed as 0.0, it indicates that the nutrient is present in such a small quantity that it falls below the detectable limit (Limit of Quantification (LOQ)).\n",
    "\n",
    "    Serving size information is available, but nutrient data is consistently expressed per 100 grams/milliliters. If the user asks for serving size data, provide the available information, but clarify that the nutrient values themselves are not based on the serving size.\n",
    "\n",
    "    The user may input their question about a very specific branded food item, or a more general food item, such as an ingredient. In the case where they ask about a specific branded food item by name, use only the data associated with that food item. In the case where the user asks about a general food, you'll have multiple brands of that food available in your context—choose the most general version of that product in that case.\n",
    "\n",
    "    Don't use markdown formatting.\n",
    "    \n",
    "    If the information provided isn't enough to accurately answer the question, reply with \"I'm sorry, I don't have enough information to accurately answer that question.\".\n",
    "\n",
    "    Make sure to start the response by mentioning the item you are referring to:\n",
    "\n",
    "    Food Data: {food_data}\n",
    "    \"\"\"\n",
    "    return prompt_template.format(query=query, food_data=food_data)\n",
    "\n",
    "def get_completion(query, food_data):\n",
    "    client = OpenAI()\n",
    "    prompt = generate_prompt(query, food_data)\n",
    "\n",
    "    completion = client.chat.completions.create(\n",
    "        model=\"gpt-4o\",\n",
    "        messages=[\n",
    "            {\"role\": \"user\", \"content\": prompt}\n",
    "        ]\n",
    "    )\n",
    "    return completion.choices[0].message.content\n",
    "\n",
    "def similarity_search(query, index, pc, top_k=10):\n",
    "    query_embedding = pc.inference.embed(\n",
    "        model=\"multilingual-e5-large\",\n",
    "        inputs=[query],\n",
    "        parameters={\"input_type\": \"query\"}\n",
    "    )\n",
    "    if query_embedding and 'values' in query_embedding[0]:\n",
    "        results = index.query(\n",
    "            vector=query_embedding[0]['values'],\n",
    "            top_k=top_k,\n",
    "            include_metadata=True\n",
    "        )\n",
    "        return results['matches'] if results['matches'] else []\n",
    "    else:\n",
    "        return []\n",
    "\n",
    "def retrieve_food_data_from_pinecone(query):\n",
    "    raw_retrieved_food_data = similarity_search(query, index, pc)\n",
    "    food_data = get_food_nutrients(raw_retrieved_food_data)\n",
    "    return food_data"
   ]
  },
  {
   "cell_type": "code",
   "execution_count": 8,
   "metadata": {},
   "outputs": [
    {
     "name": "stdout",
     "output_type": "stream",
     "text": [
      "Food Item: Oreo Cookies Milk Chocolate Covered\n",
      "\n",
      "Nutrient Breakdown per 100 grams:\n",
      "- Carbohydrates: 67.0 g\n",
      "- Sugars: 47.0 g\n",
      "- Dietary Fiber: 2.3 g\n",
      "- Protein: 4.8 g\n",
      "- Total Fat: 26.0 g\n",
      "  - Saturated Fat: 14.5 g\n",
      "- Sodium: 230.0 mg\n",
      "\n",
      "Potential Allergens:\n",
      "The ingredients list indicates the presence of several potential allergens:\n",
      "- Wheat (from wheat flour and wheat starch)\n",
      "- Milk (from skimmed milk powder, lactose, and anhydrous milk fat)\n",
      "- Soy (from soya lecithin and sunflower lecithin)\n",
      "\n",
      "These common allergens could pose a risk to individuals with allergies to wheat, milk, or soy.\n"
     ]
    }
   ],
   "source": [
    "user_query = \"Give me a detailed nutrient breakdown of and potential allergens within Oreo Cookies Milk Chocolate Covered\"\n",
    "retrieved_food_data = retrieve_food_data_from_pinecone(user_query)\n",
    "response = get_completion(user_query, retrieved_food_data)\n",
    "print(response)"
   ]
  }
 ],
 "metadata": {
  "kernelspec": {
   "display_name": "Python 3",
   "language": "python",
   "name": "python3"
  },
  "language_info": {
   "codemirror_mode": {
    "name": "ipython",
    "version": 3
   },
   "file_extension": ".py",
   "mimetype": "text/x-python",
   "name": "python",
   "nbconvert_exporter": "python",
   "pygments_lexer": "ipython3",
   "version": "3.11.5"
  }
 },
 "nbformat": 4,
 "nbformat_minor": 2
}
